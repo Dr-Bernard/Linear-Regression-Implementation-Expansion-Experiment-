{
 "cells": [
  {
   "cell_type": "code",
   "execution_count": 1,
   "id": "c94b37a3",
   "metadata": {},
   "outputs": [],
   "source": [
    "import numpy as np\n",
    "import matplotlib.pyplot as plt"
   ]
  },
  {
   "cell_type": "code",
   "execution_count": 28,
   "id": "bdede8d2",
   "metadata": {},
   "outputs": [],
   "source": [
    "In [21]: def generate_gradient(X, theta, y):\n",
    "             sample_count = X.shape[0]\n",
    "             # Calculate the gradient based on the matrix 1/M!(((h(x^i)-y^i))*x_j^i)\n",
    "             \n",
    "             predictions = X.dot(theta) # Shape: (sample_count,)\n",
    "             # y has shape (sample_count, 1), flatten it to (sample_count,) for correct subtraction\n",
    "             error_term = predictions - y.flatten() # Shape: (sample_count,)\n",
    "             \n",
    "             # X.T shape: (feature_count, sample_count)\n",
    "             # error_term shape: (sample_count,)\n",
    "             # gradient shape: (feature_count,)\n",
    "             gradient = (1./sample_count) * X.T.dot(error_term)\n",
    "             return gradient"
   ]
  },
  {
   "cell_type": "markdown",
   "id": "6a0d7fcb",
   "metadata": {},
   "source": [
    "Step 3: Define the function for reading datasets"
   ]
  },
  {
   "cell_type": "code",
   "execution_count": 29,
   "id": "d7c6d37e",
   "metadata": {},
   "outputs": [],
   "source": [
    "def get_training_data(lr2_data):\n",
    "    orig_data = np.loadtxt(lr2_data,skiprows=1)  # Ignore the title in the first row of the dataset.\n",
    "    cols = orig_data.shape[1]\n",
    "    return (orig_data, orig_data[:, :cols - 1], orig_data[:, cols-1:])"
   ]
  },
  {
   "cell_type": "code",
   "execution_count": 30,
   "id": "e16e432e",
   "metadata": {},
   "outputs": [],
   "source": [
    "In [23]: def gradient_descending(X, y, theta, alpha):\n",
    "             Jthetas = [] # Record the change trend of the cost function J(θ) to confirm the gradient descent is working\n",
    "             # ... (other initializations) ...\n",
    "             index = 0\n",
    "             gradient = generate_gradient(X, theta, y) # Calculate the gradient\n",
    "             while not np.all(np.absolute(gradient) <= 1e-5): # End the calculation when the gradient is less than a threshold\n",
    "                 theta = theta - alpha*gradient # Update theta\n",
    "                 gradient = generate_gradient(X, theta, y) # Calculate the new gradient.\n",
    "                 \n",
    "                 # Calculate the loss function\n",
    "                 predictions = X.dot(theta)\n",
    "                 # Ensure error for loss is also calculated correctly using y.flatten()\n",
    "                 current_error = predictions - y.flatten() # Shape: (sample_count,)\n",
    "                 Jtheta = np.dot(current_error, current_error) # Sum of squared errors (scalar)\n",
    "                                                              # If MSE is desired, divide by sample_count or 2*sample_count\n",
    "\n",
    "                 if (index+1) % 10 == 0: # Record the result every 10 calculations. (Corrected condition from index % 10 == 0 if you want it at 10, 20...)\n",
    "                     # Jtheta is now a scalar, so Jtheta[0] is not needed and would cause an error.\n",
    "                     Jthetas.append((index, Jtheta)) \n",
    "                 index +=1\n",
    "             return theta,Jthetas"
   ]
  },
  {
   "cell_type": "markdown",
   "id": "d4c170d4",
   "metadata": {},
   "source": [
    "Step 6: Define the function for visualizing the change curve of the loss function\n",
    "input:"
   ]
  },
  {
   "cell_type": "code",
   "execution_count": 31,
   "id": "5b69d0ef",
   "metadata": {},
   "outputs": [],
   "source": [
    "# Plot the loss function change curve.\n",
    "def showJTheta(diff_value):\n",
    "    p_x = []\n",
    "    p_y = []\n",
    "    for (index,sum) in diff_value:\n",
    "        p_x.append(index)\n",
    "        p_y.append(sum)\n",
    "    plt.plot(p_x, p_y, color='b')\n",
    "    plt.xlabel('steps')\n",
    "    plt.ylabel('loss function')\n",
    "    plt.title('step - loss function curve')\n",
    "    plt.show()"
   ]
  },
  {
   "cell_type": "markdown",
   "id": "1d33ec27",
   "metadata": {},
   "source": [
    "Step 7: Define the function for visualizing data points and the fitted curve.\n",
    "Input:"
   ]
  },
  {
   "cell_type": "code",
   "execution_count": 32,
   "id": "5fe35d43",
   "metadata": {},
   "outputs": [],
   "source": [
    "# Plot the actual data points and the fitted curve.\n",
    "def showlinearcurve(theta, sample_training_set):\n",
    "    x, y = sample_training_set[:, 1], sample_training_set[:, 2]\n",
    "    z = theta[0] + theta[1] * x\n",
    "    plt.scatter(x, y, color='b', marker='x',label=\"sample data\")\n",
    "    plt.plot(x, z, 'r', color=\"r\",label=\"regression curve\")\n",
    "    plt.xlabel('x')\n",
    "    plt.ylabel('y')\n",
    "    plt.title('Linear Regression Curve')\n",
    "    plt.legend()\n",
    "    plt.show()"
   ]
  },
  {
   "cell_type": "markdown",
   "id": "9d3a741a",
   "metadata": {},
   "source": [
    "Step 8 Plot the final results\n",
    "Input:"
   ]
  },
  {
   "cell_type": "code",
   "execution_count": 33,
   "id": "30b263d8",
   "metadata": {},
   "outputs": [],
   "source": [
    "def init_theta(feature_count):\n",
    "    return np.zeros(feature_count)"
   ]
  },
  {
   "cell_type": "code",
   "execution_count": 35,
   "id": "ee83e863",
   "metadata": {},
   "outputs": [
    {
     "name": "stdout",
     "output_type": "stream",
     "text": [
      "w:3.0077910965506875 b:1.6683651571482958\n"
     ]
    },
    {
     "data": {
      "image/png": "[encoded data removed]",
      "text/plain": [
       "<Figure size 432x288 with 1 Axes>"
      ]
     },
     "metadata": {
      "needs_background": "light"
     },
     "output_type": "display_data"
    },
    {
     "name": "stderr",
     "output_type": "stream",
     "text": [
      "C:\\Users\\nwank\\AppData\\Local\\Temp\\ipykernel_22428\\1812434709.py:6: UserWarning: color is redundantly defined by the 'color' keyword argument and the fmt string \"r\" (-> color=(1.0, 0.0, 0.0, 1)). The keyword argument will take precedence.\n",
      "  plt.plot(x, z, 'r', color=\"r\",label=\"regression curve\")\n"
     ]
    },
    {
     "data": {
      "image/png": "[encoded data removed]",
      "text/plain": [
       "<Figure size 432x288 with 1 Axes>"
      ]
     },
     "metadata": {
      "needs_background": "light"
     },
     "output_type": "display_data"
    }
   ],
   "source": [
    "# Read the dataset.\n",
    "training_data_include_y, training_x, y = get_training_data(\"lr2_data.txt\")\n",
    "# Obtain the numbers of the samples and features, respectively.\n",
    "sample_count, feature_count = training_x.shape\n",
    "# Define the learning step α.\n",
    "alpha = 0.01\n",
    "# Initialize 0.\n",
    "theta = init_theta(feature_count)\n",
    "# Obtain the final parameter 0 and cost.\n",
    "result_theta,Jthetas = gradient_descending(training_x, y, theta, alpha)\n",
    "# Display the parameter.\n",
    "print(\"w:{}\".format(result_theta[0]), \"b:{}\".format(result_theta[1]))\n",
    "# print(\"w:{}\".format(result_theta[0][0]), \"b:{}\".format(result_theta[1][0]))\n",
    "showJTheta(Jthetas)\n",
    "showlinearcurve(result_theta, training_data_include_y)"
   ]
  },
  {
   "cell_type": "code",
   "execution_count": null,
   "id": "1848d906",
   "metadata": {},
   "outputs": [],
   "source": []
  }
 ],
 "metadata": {
  "kernelspec": {
   "display_name": "Python 3 (ipykernel)",
   "language": "python",
   "name": "python3"
  },
  "language_info": {
   "codemirror_mode": {
    "name": "ipython",
    "version": 3
   },
   "file_extension": ".py",
   "mimetype": "text/x-python",
   "name": "python",
   "nbconvert_exporter": "python",
   "pygments_lexer": "ipython3",
   "version": "3.9.12"
  }
 },
 "nbformat": 4,
 "nbformat_minor": 5
}
